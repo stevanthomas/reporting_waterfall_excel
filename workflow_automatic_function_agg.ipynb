{
 "cells": [
  {
   "cell_type": "code",
   "execution_count": 1,
   "metadata": {},
   "outputs": [],
   "source": [
    "# %pip install XlsxWriter"
   ]
  },
  {
   "cell_type": "code",
   "execution_count": 2,
   "metadata": {},
   "outputs": [],
   "source": [
    "import xlsxwriter"
   ]
  },
  {
   "cell_type": "code",
   "execution_count": 3,
   "metadata": {},
   "outputs": [],
   "source": [
    "# update here\n",
    "\n",
    "nClientAuto30id = 2000\n",
    "\n",
    "nClientInactive = 200\n",
    "nClientActive = 1800\n",
    "\n",
    "nClientLPEx = 600\n",
    "nClientCNPEx = 100\n",
    "nClientManualEx = 50\n",
    "nClientCheck = 1050\n",
    "\n",
    "nClientDataIssue = 150\n",
    "nClientEgiRun = 900"
   ]
  },
  {
   "cell_type": "code",
   "execution_count": 4,
   "metadata": {},
   "outputs": [],
   "source": [
    "report_creation = {\n",
    "    \"first\":{\n",
    "        \"Client from auto30id\": nClientAuto30id\n",
    "    },\n",
    "    \"second\":{\n",
    "        \"Inactive\":nClientInactive, \n",
    "        \"Active\": nClientActive\n",
    "    },\n",
    "    \"third\":{\n",
    "        \"Active LP Exclusions\" : nClientLPEx , \n",
    "        \"Active CNP Exclusions\" : nClientCNPEx , \n",
    "        \"Active Manual Exclusions\" : nClientManualEx ,\n",
    "        \"Remaining for Data Quality Check\": nClientCheck\n",
    "    },\n",
    "    \"forth\":{\n",
    "        \"Data Issues\":nClientDataIssue, \n",
    "        \"Eligible to Run\": nClientEgiRun      \n",
    "    },\n",
    "    # add more levels based on future needs\n",
    "    # the key names should be change to a more formal one\n",
    "}"
   ]
  },
  {
   "cell_type": "code",
   "execution_count": 5,
   "metadata": {},
   "outputs": [],
   "source": [
    "# create a workbook and a sheet\n",
    "# change the path when needed\n",
    "\n",
    "workbook = xlsxwriter.Workbook(\"MyExcel2.xlsx\") # change the address of the workbook here\n",
    "worksheet = workbook.add_worksheet()"
   ]
  },
  {
   "cell_type": "code",
   "execution_count": 6,
   "metadata": {},
   "outputs": [],
   "source": [
    "def add (levels, row, column): \n",
    "    '''\n",
    "    The function 'add' can help write the N*2 data into the excel file based on the location of the starting cell (row,column).\n",
    "    Starting cell: the top and left cell for each N*2 data\n",
    "    \n",
    "    levels: A dictionary. Have the name of the item and the value of it. \n",
    "    row: row index for the starting cell (row>=0)\n",
    "    column: column index for the starting cell (col>=0)\n",
    "    \n",
    "    '''\n",
    "    next_row = row \n",
    "    value_column = column + 1    \n",
    "    \n",
    "    for i in range(len(levels)):\n",
    "        worksheet.write(next_row,column,list(levels.keys())[i])\n",
    "        worksheet.write(next_row,value_column,list(levels.values())[i])\n",
    "        next_row += 1  ## move to the next row to insert a new record\n",
    "          \n",
    "    next_column = value_column # this becomes the next block's start column\n",
    "    \n",
    "    return next_row,next_column"
   ]
  },
  {
   "cell_type": "code",
   "execution_count": 7,
   "metadata": {},
   "outputs": [],
   "source": [
    "current_row = 0\n",
    "current_column = 0"
   ]
  },
  {
   "cell_type": "code",
   "execution_count": 8,
   "metadata": {},
   "outputs": [],
   "source": [
    "for i in list(report_creation.keys()):\n",
    "    current_row,current_column = add(report_creation[i],current_row,current_column)"
   ]
  },
  {
   "cell_type": "code",
   "execution_count": 9,
   "metadata": {},
   "outputs": [],
   "source": [
    "workbook.close()"
   ]
  },
  {
   "cell_type": "code",
   "execution_count": null,
   "metadata": {},
   "outputs": [],
   "source": []
  },
  {
   "cell_type": "code",
   "execution_count": null,
   "metadata": {},
   "outputs": [],
   "source": []
  },
  {
   "cell_type": "code",
   "execution_count": null,
   "metadata": {},
   "outputs": [],
   "source": []
  },
  {
   "cell_type": "code",
   "execution_count": null,
   "metadata": {},
   "outputs": [],
   "source": []
  }
 ],
 "metadata": {
  "kernelspec": {
   "display_name": "Python 3 (ipykernel)",
   "language": "python",
   "name": "python3"
  },
  "language_info": {
   "codemirror_mode": {
    "name": "ipython",
    "version": 3
   },
   "file_extension": ".py",
   "mimetype": "text/x-python",
   "name": "python",
   "nbconvert_exporter": "python",
   "pygments_lexer": "ipython3",
   "version": "3.9.13"
  }
 },
 "nbformat": 4,
 "nbformat_minor": 4
}
