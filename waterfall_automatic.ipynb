{
 "cells": [
  {
   "cell_type": "code",
   "execution_count": 1,
   "metadata": {},
   "outputs": [],
   "source": [
    "# %pip install XlsxWriter"
   ]
  },
  {
   "cell_type": "code",
   "execution_count": 2,
   "metadata": {},
   "outputs": [],
   "source": [
    "import xlsxwriter"
   ]
  },
  {
   "cell_type": "markdown",
   "metadata": {},
   "source": [
    "# Codes need to review or edit"
   ]
  },
  {
   "cell_type": "code",
   "execution_count": 3,
   "metadata": {},
   "outputs": [],
   "source": [
    "# Dev: replace with output from algo\n",
    "\n",
    "nClientAuto30id = 2000\n",
    "\n",
    "nClientInactive = 200\n",
    "nClientActive = 1800\n",
    "\n",
    "nClientLPEx = 600\n",
    "nClientCNPEx = 100\n",
    "nClientManualEx = 50\n",
    "nClientCheck = 1050\n",
    "\n",
    "nClientDataIssue = 150\n",
    "nClientEgiRun = 900\n",
    "\n",
    "nClientUnsuc = 200\n",
    "nClientSuc = 700\n",
    "\n",
    "nClientMedd = 300\n",
    "meddLocked = 100\n",
    "meddPass = 200\n",
    "\n",
    "nClientCommercial = 400\n",
    "commLocked = 150\n",
    "commPass = 250"
   ]
  },
  {
   "cell_type": "code",
   "execution_count": 4,
   "metadata": {},
   "outputs": [],
   "source": [
    "# To design the structure of the excel \n",
    "# Can add more levels based on future needs\n",
    "# Dev: the key names should be change to a more formal one\n",
    "\n",
    "report_creation = {\n",
    "    \"first\":{\n",
    "        \"Client from auto30id\": nClientAuto30id\n",
    "    },\n",
    "    \"second\":{\n",
    "        \"Inactive\":nClientInactive, \n",
    "        \"Active\": nClientActive\n",
    "    },\n",
    "    \"third\":{\n",
    "        \"Active LP Exclusions\" : nClientLPEx , \n",
    "        \"Active CNP Exclusions\" : nClientCNPEx , \n",
    "        \"Active Manual Exclusions\" : nClientManualEx ,\n",
    "        \"Remaining for Data Quality Check\": nClientCheck\n",
    "    },\n",
    "    \"forth\":{\n",
    "        \"Data Issues\":nClientDataIssue, \n",
    "        \"Eligible to Run\": nClientEgiRun      \n",
    "    },\n",
    "    \"fifth\":{\n",
    "        \"Unsuccessful\": nClientUnsuc,\n",
    "        \"Successful\": nClientSuc\n",
    "    },\n",
    "    \"sixth\":{\n",
    "        \"Medd\":[{'Medd': nClientMedd}, \n",
    "                {\"Locked\":meddLocked, \n",
    "                 \"Passthrough\":meddPass}], \n",
    "        \"Commercial\":[{\"Commercial\":nClientCommercial}, \n",
    "                      {\"Locked\":commLocked,\n",
    "                       \"Passthrough\":commPass}]\n",
    "    },\n",
    "\n",
    "}\n",
    "\n",
    "\n",
    "#         \"Medd\":[{'Medd': nClientMedd},\n",
    "#                 {\"Locked\":[{'meddLocked':meddLocked},{'brancha':40,'branchb':60}], # this line is for testing whether adding more levels are allowed\n",
    "#                  \"Passthrough\":meddPass}], "
   ]
  },
  {
   "cell_type": "markdown",
   "metadata": {},
   "source": [
    "<b>How to design the structure<b>\n",
    "- The structure is a dictionary\n",
    "- Each key and value pair represents a level of a waterfall. We call it main levels.\n",
    "- If a level includes more than one value need to drill down. Write sublevels inside the main level. \n",
    "\n",
    "<b> How to write sublevels<b>\n",
    "- The value will be a list instead of a integer.\n",
    "- In the list, the first item is a dictionary with parent node's name and value; the second item is a dictionary with sublevels' names and values."
   ]
  },
  {
   "cell_type": "code",
   "execution_count": 5,
   "metadata": {},
   "outputs": [],
   "source": [
    "# To set file path\n",
    "filename = \"waterfall.xlsx\""
   ]
  },
  {
   "cell_type": "code",
   "execution_count": 6,
   "metadata": {},
   "outputs": [],
   "source": [
    "workbook = xlsxwriter.Workbook(filename)\n",
    "worksheet = workbook.add_worksheet()"
   ]
  },
  {
   "cell_type": "code",
   "execution_count": 7,
   "metadata": {},
   "outputs": [],
   "source": [
    "# To set cells need to be highlight\n",
    "highlight_title = [\n",
    "    'Client from auto30id',\n",
    "    'Active',\n",
    "    'Remaining for Data Quality Check',\n",
    "    'Eligible to Run',\n",
    "    'Successful',\n",
    "    'Medd',\n",
    "    'Commercial'\n",
    "]"
   ]
  },
  {
   "cell_type": "code",
   "execution_count": 8,
   "metadata": {},
   "outputs": [],
   "source": [
    "# To Set hightlight color\n",
    "parent_format = workbook.add_format({'bg_color': '#00CC66'})"
   ]
  },
  {
   "cell_type": "markdown",
   "metadata": {},
   "source": [
    "# Editing is not necessary after this line"
   ]
  },
  {
   "cell_type": "code",
   "execution_count": 9,
   "metadata": {},
   "outputs": [],
   "source": [
    "def add (levels, row, column): \n",
    "    '''\n",
    "    The function 'add' can help write the N*2 data into the excel file based on the location of the starting cell (row,column).\n",
    "    Starting cell: the top and left cell for each N*2 data\n",
    "    \n",
    "    Parameters\n",
    "    ---------\n",
    "    levels: A dictionary. Have the name of the item and the value of it. \n",
    "    row: row index for the starting cell (row>=0)\n",
    "    column: column index for the starting cell (col>=0)\n",
    "    \n",
    "    '''\n",
    "    next_row = row \n",
    "    value_column = column + 1    \n",
    "    \n",
    "    for i in range(len(levels)):\n",
    "\n",
    "        # if the value of the dictionary is integer, insert it\n",
    "        if isinstance(list(levels.values())[i],int):\n",
    "            worksheet.write(next_row,column,list(levels.keys())[i])\n",
    "            \n",
    "            # identify highlight cells\n",
    "            if list(levels.keys())[i] in highlight_title:\n",
    "                worksheet.write(next_row,value_column,list(levels.values())[i],parent_format)\n",
    "            else:\n",
    "                worksheet.write(next_row,value_column,list(levels.values())[i])    \n",
    "                \n",
    "            ## move to the next row to insert a new record\n",
    "            next_row += 1  \n",
    "            \n",
    "        # if the value of dictionary is a list, identify the parent node and values, then recall this function\n",
    "        else:\n",
    "            next_row = add(list(levels.values())[i][0],next_row,column)[0]\n",
    "            next_row = add(list(levels.values())[i][1],next_row,column+1)[0]\n",
    "                \n",
    "    # this becomes the next block's start column      \n",
    "    next_column = value_column \n",
    "    \n",
    "    return next_row,next_column"
   ]
  },
  {
   "cell_type": "code",
   "execution_count": null,
   "metadata": {},
   "outputs": [],
   "source": []
  },
  {
   "cell_type": "code",
   "execution_count": 10,
   "metadata": {},
   "outputs": [],
   "source": [
    "# To start from (0,0) cell\n",
    "current_row = 0\n",
    "current_column = 0"
   ]
  },
  {
   "cell_type": "code",
   "execution_count": 11,
   "metadata": {
    "scrolled": true
   },
   "outputs": [],
   "source": [
    "# run the function and insert the contents from report_creation\n",
    "for i in list(report_creation.keys()):\n",
    "    current_row,current_column = add(report_creation[i],current_row,current_column)"
   ]
  },
  {
   "cell_type": "code",
   "execution_count": 12,
   "metadata": {},
   "outputs": [],
   "source": [
    "workbook.close()"
   ]
  },
  {
   "cell_type": "code",
   "execution_count": 13,
   "metadata": {},
   "outputs": [],
   "source": [
    "# 'xlsxwriter' package doesn't allow opening existing excel file and reset cell format after setting it once."
   ]
  }
 ],
 "metadata": {
  "kernelspec": {
   "display_name": "Python 3 (ipykernel)",
   "language": "python",
   "name": "python3"
  },
  "language_info": {
   "codemirror_mode": {
    "name": "ipython",
    "version": 3
   },
   "file_extension": ".py",
   "mimetype": "text/x-python",
   "name": "python",
   "nbconvert_exporter": "python",
   "pygments_lexer": "ipython3",
   "version": "3.9.13"
  }
 },
 "nbformat": 4,
 "nbformat_minor": 4
}
